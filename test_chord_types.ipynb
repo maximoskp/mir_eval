{
 "cells": [
  {
   "cell_type": "code",
   "execution_count": 1,
   "metadata": {},
   "outputs": [],
   "source": [
    "import mir_eval"
   ]
  },
  {
   "cell_type": "code",
   "execution_count": 2,
   "metadata": {},
   "outputs": [],
   "source": [
    "# REMOVED\n",
    "# type problem:  C:b9\n",
    "# type problem:  C:#9\n",
    "# type problem:  C:#11\n",
    "# type problem:  C:b13"
   ]
  },
  {
   "cell_type": "code",
   "execution_count": 3,
   "metadata": {},
   "outputs": [],
   "source": [
    "for q in mir_eval.chord.QUALITIES:\n",
    "    chord_symbol = 'C' + ':'*(len(q)>0) + q\n",
    "    try:\n",
    "        x = mir_eval.chord.encode(chord_symbol, reduce_extended_chords=True)\n",
    "    except:\n",
    "        print('type problem: ', chord_symbol)"
   ]
  },
  {
   "cell_type": "code",
   "execution_count": 8,
   "metadata": {},
   "outputs": [
    {
     "name": "stdout",
     "output_type": "stream",
     "text": [
      "['minmaj7', 'maj9', 'min9', '9', 'b9', '#9', '11', '#11', '13', 'b13', 'min11', 'maj13', 'min13']\n"
     ]
    }
   ],
   "source": [
    "extended_qualities = mir_eval.chord.EXTENDED_QUALITY_REDUX\n",
    "extended_keys = list(extended_qualities.keys())\n",
    "print(extended_keys)"
   ]
  },
  {
   "cell_type": "code",
   "execution_count": 18,
   "metadata": {},
   "outputs": [
    {
     "name": "stdout",
     "output_type": "stream",
     "text": [
      "(0, array([1, 1, 0, 1, 0, 0, 0, 1, 0, 0, 0, 1]), 0)\n"
     ]
    }
   ],
   "source": [
    "c = 'C:minmaj7(b9)'\n",
    "x = mir_eval.chord.encode(c, reduce_extended_chords=True)\n",
    "print(x)"
   ]
  }
 ],
 "metadata": {
  "kernelspec": {
   "display_name": "mir_eval",
   "language": "python",
   "name": "python3"
  },
  "language_info": {
   "codemirror_mode": {
    "name": "ipython",
    "version": 3
   },
   "file_extension": ".py",
   "mimetype": "text/x-python",
   "name": "python",
   "nbconvert_exporter": "python",
   "pygments_lexer": "ipython3",
   "version": "3.13.0"
  }
 },
 "nbformat": 4,
 "nbformat_minor": 2
}
